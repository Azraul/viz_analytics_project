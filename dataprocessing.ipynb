{
 "cells": [
  {
   "cell_type": "markdown",
   "metadata": {},
   "source": [
    "## Explore, Clean & Draft\n",
    "Notebook is for exploring and cleaning the dataset.\n",
    "\n",
    "The notebook will also work for drafting desiered plots, before moving them over into the functions.py.\n"
   ]
  },
  {
   "cell_type": "code",
   "execution_count": null,
   "metadata": {},
   "outputs": [],
   "source": [
    "import pandas as pd\n",
    "import functions"
   ]
  },
  {
   "cell_type": "code",
   "execution_count": null,
   "metadata": {},
   "outputs": [],
   "source": [
    "df = pd.read_csv(\"olympic_games.csv\")"
   ]
  },
  {
   "cell_type": "code",
   "execution_count": null,
   "metadata": {},
   "outputs": [],
   "source": [
    "df.head()"
   ]
  },
  {
   "cell_type": "code",
   "execution_count": null,
   "metadata": {},
   "outputs": [],
   "source": [
    "df.info()"
   ]
  },
  {
   "cell_type": "markdown",
   "metadata": {},
   "source": [
    "### Using Wikipedia to fill in the blanks\n",
    "[Wikipedia](https://en.wikipedia.org/wiki/Independent_Olympians_at_the_Olympic_Games)\n",
    "\n",
    "- row 186 is `Kuwait`\n",
    "- row 816 is Serbia and Montenegro, known until 2003 as the Federal Republic of Yugoslavia but then later each being their own state.\n",
    "    - According to Wikipedia, each athlet above from 1992 is credited as being from `Serbia`. However, Wikipedia is an open database and such a sensetive topic should be investigated further for proper. For this assignment, `Serbia` will suffice."
   ]
  },
  {
   "cell_type": "code",
   "execution_count": null,
   "metadata": {},
   "outputs": [],
   "source": [
    "df.loc[df['country'] == \"Independent Olympic Athletes\"]"
   ]
  },
  {
   "cell_type": "markdown",
   "metadata": {},
   "source": [
    "## Mixd Teams\n",
    "We also have `Mixed teams`, rather than investigating and making too many assumptions I will simply drop these as it was only 4 rows"
   ]
  },
  {
   "cell_type": "code",
   "execution_count": null,
   "metadata": {},
   "outputs": [],
   "source": [
    "# Show the mixed teams\n",
    "print(df.loc[df['country'] == \"Mixed team\"])"
   ]
  },
  {
   "cell_type": "markdown",
   "metadata": {},
   "source": [
    "### Clean and set proper names"
   ]
  },
  {
   "cell_type": "code",
   "execution_count": null,
   "metadata": {},
   "outputs": [],
   "source": [
    "# Change names to iso names\n",
    "df = functions.set_country_names(df)\n",
    "# Time to grab the iso codes\n",
    "df = functions.clean_olympics(df)\n",
    "df = functions.set_countries_alpha(df, \"country\")\n",
    "# Make a new column with total amount of medals per row\n",
    "df = functions.set_olympic_medals(df)"
   ]
  },
  {
   "cell_type": "markdown",
   "metadata": {},
   "source": [
    "# Plots"
   ]
  },
  {
   "cell_type": "markdown",
   "metadata": {},
   "source": [
    "## Athletes, Teams or Competitions\n",
    "Line chart to show *changing over time*"
   ]
  },
  {
   "cell_type": "code",
   "execution_count": null,
   "metadata": {},
   "outputs": [],
   "source": [
    "selected_years=[df['year'].min(), df['year'].max()]\n",
    "fig = functions.bar_distribution_maker(df, selected_years, game_type=\"Summer\")\n",
    "fig.show()"
   ]
  },
  {
   "cell_type": "markdown",
   "metadata": {},
   "source": [
    "## Summer/Winter games\n",
    "- A simple pie chart"
   ]
  },
  {
   "cell_type": "code",
   "execution_count": null,
   "metadata": {},
   "outputs": [],
   "source": [
    "fig = functions.summer_winter_games(df)\n",
    "fig.show()"
   ]
  },
  {
   "cell_type": "markdown",
   "metadata": {},
   "source": [
    "## Host by country\n",
    "- Single bar chart by country"
   ]
  },
  {
   "cell_type": "code",
   "execution_count": null,
   "metadata": {},
   "outputs": [],
   "source": [
    "fig = functions.host_by_country(df)\n",
    "fig.show()"
   ]
  },
  {
   "cell_type": "markdown",
   "metadata": {},
   "source": [
    "# Medals\n",
    "- Medal type per country, *share of a total* composition with a pie chart"
   ]
  },
  {
   "cell_type": "code",
   "execution_count": null,
   "metadata": {},
   "outputs": [],
   "source": [
    "fig = functions.pie_plot_medals(df, year=1896)\n",
    "#fig = pie_plot_medals(df, country=\"Greece\")\n",
    "#fig = pie_plot_medals(df, year=1896, country=\"Greece\")\n",
    "fig.show()"
   ]
  },
  {
   "cell_type": "markdown",
   "metadata": {},
   "source": [
    "## Geo Maps\n",
    "- Distribution of Country, on the world map and medals earned\n",
    "    - I will create a `mean` score on medals earned and color the bubbles accordingly\n",
    "- Users can change for type of game and adjust the age range with sliders"
   ]
  },
  {
   "cell_type": "code",
   "execution_count": null,
   "metadata": {},
   "outputs": [],
   "source": [
    "fig = functions.make_geo_map(df, selected_years, game_type=None)\n",
    "fig.show()"
   ]
  },
  {
   "cell_type": "code",
   "execution_count": null,
   "metadata": {},
   "outputs": [],
   "source": []
  }
 ],
 "metadata": {
  "kernelspec": {
   "display_name": "viz_analytics",
   "language": "python",
   "name": "python3"
  },
  "language_info": {
   "codemirror_mode": {
    "name": "ipython",
    "version": 3
   },
   "file_extension": ".py",
   "mimetype": "text/x-python",
   "name": "python",
   "nbconvert_exporter": "python",
   "pygments_lexer": "ipython3",
   "version": "3.11.5"
  }
 },
 "nbformat": 4,
 "nbformat_minor": 2
}
