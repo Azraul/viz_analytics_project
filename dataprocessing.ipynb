{
 "cells": [
  {
   "cell_type": "markdown",
   "metadata": {},
   "source": [
    "## Explore, Clean & Draft\n",
    "Notebook is for exploring and cleaning the dataset.\n",
    "\n",
    "The notebook will also work for drafting desiered plots, before moving them over into the functions.py.\n"
   ]
  },
  {
   "cell_type": "code",
   "execution_count": null,
   "metadata": {},
   "outputs": [],
   "source": [
    "import pandas as pd\n",
    "import functions"
   ]
  },
  {
   "cell_type": "code",
   "execution_count": null,
   "metadata": {},
   "outputs": [],
   "source": [
    "df = pd.read_csv(\"olympic_games.csv\")"
   ]
  },
  {
   "cell_type": "code",
   "execution_count": null,
   "metadata": {},
   "outputs": [],
   "source": [
    "df.head()"
   ]
  },
  {
   "cell_type": "code",
   "execution_count": null,
   "metadata": {},
   "outputs": [],
   "source": [
    "df.info()"
   ]
  },
  {
   "cell_type": "markdown",
   "metadata": {},
   "source": [
    "## Using Wikipedia to fill in the blanks\n",
    "[Wikipedia](https://en.wikipedia.org/wiki/Independent_Olympians_at_the_Olympic_Games)\n",
    "\n",
    "- 2016, row 186, is `Kuwait` according to the Wiki\n",
    "- 1992, row 816, is Serbia and Montenegro, known until 2003 as the Federal Republic of Yugoslavia but then later split into a state each.\n",
    "    - According to Wikipedia, each athlete above from 1992 is credited as being from *Serbia*. However, Wikipedia is an open database and such a sensitive topic should be investigated further for proper but for this assignment, `Serbia` will suffice."
   ]
  },
  {
   "cell_type": "code",
   "execution_count": null,
   "metadata": {},
   "outputs": [],
   "source": [
    "df.loc[df['country'] == \"Independent Olympic Athletes\"]"
   ]
  },
  {
   "cell_type": "markdown",
   "metadata": {},
   "source": [
    "#### Mixd Teams\n",
    "We also have `Mixed teams`, rather than investigating and making too many assumptions I will simply drop these as it was only 4 rows"
   ]
  },
  {
   "cell_type": "code",
   "execution_count": null,
   "metadata": {},
   "outputs": [],
   "source": [
    "# Show the mixed teams\n",
    "print(df.loc[df['country'] == \"Mixed team\"])"
   ]
  },
  {
   "cell_type": "markdown",
   "metadata": {},
   "source": [
    "## Clean and set proper names\n",
    "We have plenty of names being a little all over, name changes or other events. Simply by going over the list I was able to puzzle togeheter most of them into ISO standard names using a custom switch case function.\n",
    "\n",
    "I will then add columns for ISO codes, for easier geographical plot later and total number of medallions."
   ]
  },
  {
   "cell_type": "code",
   "execution_count": null,
   "metadata": {},
   "outputs": [],
   "source": [
    "uncleaned_countries = df['country'].unique()\n",
    "print(uncleaned_countries)"
   ]
  },
  {
   "cell_type": "code",
   "execution_count": null,
   "metadata": {},
   "outputs": [],
   "source": [
    "# Change names to iso names\n",
    "df = functions.set_country_names(df)\n",
    "# Time to grab the iso codes\n",
    "df = functions.clean_olympics(df)\n",
    "df = functions.set_countries_alpha(df, \"country\")\n",
    "# Make a new column with total amount of medals per row\n",
    "df = functions.set_olympic_medals(df)"
   ]
  },
  {
   "cell_type": "markdown",
   "metadata": {},
   "source": [
    "# Plots\n",
    "Using (plotly)[https://plotly.com/]\n",
    "- All plots have been moved into custom functions in the `functions.py` file for easy (dash)[https://dash.plotly.com/] usage in the dashboard, which can be found over in `app.py` file."
   ]
  },
  {
   "cell_type": "markdown",
   "metadata": {},
   "source": [
    "## Athletes, Teams or Competitions\n",
    "Line chart to show *changing over time*"
   ]
  },
  {
   "cell_type": "code",
   "execution_count": null,
   "metadata": {},
   "outputs": [],
   "source": [
    "selected_years=[df['year'].min(), df['year'].max()]\n",
    "fig = functions.bar_distribution_maker(df, selected_years, game_type=\"Summer\")\n",
    "fig.show()"
   ]
  },
  {
   "cell_type": "markdown",
   "metadata": {},
   "source": [
    "## Summer/Winter games\n",
    "- A simple *pie chart* showing distribution of medals."
   ]
  },
  {
   "cell_type": "code",
   "execution_count": null,
   "metadata": {},
   "outputs": [],
   "source": [
    "fig = functions.summer_winter_games(df)\n",
    "fig.show()"
   ]
  },
  {
   "cell_type": "markdown",
   "metadata": {},
   "source": [
    "## Host by country\n",
    "- Single *bar chart comparision* by country"
   ]
  },
  {
   "cell_type": "code",
   "execution_count": null,
   "metadata": {},
   "outputs": [],
   "source": [
    "fig = functions.host_by_country(df)\n",
    "fig.show()"
   ]
  },
  {
   "cell_type": "markdown",
   "metadata": {},
   "source": [
    "# Medals\n",
    "- Medal type per country, *share of a total* composition with a pie chart"
   ]
  },
  {
   "cell_type": "code",
   "execution_count": null,
   "metadata": {},
   "outputs": [],
   "source": [
    "fig = functions.pie_plot_medals(df, year=1896)\n",
    "#fig = pie_plot_medals(df, country=\"Greece\")\n",
    "#fig = pie_plot_medals(df, year=1896, country=\"Greece\")\n",
    "fig.show()"
   ]
  },
  {
   "cell_type": "markdown",
   "metadata": {},
   "source": [
    "## Geo Maps\n",
    "- Distribution of Country, on the world map and medals earned\n",
    "    - Total number of medals is used for color. Country `iso_alpha` code is used for location.\n",
    "- Users can change for type of game (*Summer, Winter*) and adjust the year range with sliders in the final dashboard"
   ]
  },
  {
   "cell_type": "code",
   "execution_count": null,
   "metadata": {},
   "outputs": [],
   "source": [
    "fig = functions.make_geo_map(df, selected_years, game_type=None)\n",
    "fig.show()"
   ]
  }
 ],
 "metadata": {
  "kernelspec": {
   "display_name": "viz_analytics",
   "language": "python",
   "name": "python3"
  },
  "language_info": {
   "codemirror_mode": {
    "name": "ipython",
    "version": 3
   },
   "file_extension": ".py",
   "mimetype": "text/x-python",
   "name": "python",
   "nbconvert_exporter": "python",
   "pygments_lexer": "ipython3",
   "version": "3.11.5"
  }
 },
 "nbformat": 4,
 "nbformat_minor": 2
}
